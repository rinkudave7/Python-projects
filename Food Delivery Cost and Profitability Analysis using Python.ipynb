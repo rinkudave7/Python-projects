{
 "cells": [
  {
   "cell_type": "code",
   "execution_count": 43,
   "id": "857dcd3f",
   "metadata": {},
   "outputs": [],
   "source": [
    "import pandas as pd "
   ]
  },
  {
   "cell_type": "code",
   "execution_count": 44,
   "id": "89321f65",
   "metadata": {},
   "outputs": [
    {
     "name": "stdout",
     "output_type": "stream",
     "text": [
      "(1000, 12)\n"
     ]
    },
    {
     "data": {
      "text/html": [
       "<div>\n",
       "<style scoped>\n",
       "    .dataframe tbody tr th:only-of-type {\n",
       "        vertical-align: middle;\n",
       "    }\n",
       "\n",
       "    .dataframe tbody tr th {\n",
       "        vertical-align: top;\n",
       "    }\n",
       "\n",
       "    .dataframe thead th {\n",
       "        text-align: right;\n",
       "    }\n",
       "</style>\n",
       "<table border=\"1\" class=\"dataframe\">\n",
       "  <thead>\n",
       "    <tr style=\"text-align: right;\">\n",
       "      <th></th>\n",
       "      <th>Order ID</th>\n",
       "      <th>Customer ID</th>\n",
       "      <th>Restaurant ID</th>\n",
       "      <th>Order Date and Time</th>\n",
       "      <th>Delivery Date and Time</th>\n",
       "      <th>Order Value</th>\n",
       "      <th>Delivery Fee</th>\n",
       "      <th>Payment Method</th>\n",
       "      <th>Discounts and Offers</th>\n",
       "      <th>Commission Fee</th>\n",
       "      <th>Payment Processing Fee</th>\n",
       "      <th>Refunds/Chargebacks</th>\n",
       "    </tr>\n",
       "  </thead>\n",
       "  <tbody>\n",
       "    <tr>\n",
       "      <th>0</th>\n",
       "      <td>1</td>\n",
       "      <td>C8270</td>\n",
       "      <td>R2924</td>\n",
       "      <td>2024-02-01 01:11:52</td>\n",
       "      <td>2024-02-01 02:39:52</td>\n",
       "      <td>1914</td>\n",
       "      <td>0</td>\n",
       "      <td>Credit Card</td>\n",
       "      <td>5% on App</td>\n",
       "      <td>150</td>\n",
       "      <td>47</td>\n",
       "      <td>0</td>\n",
       "    </tr>\n",
       "    <tr>\n",
       "      <th>1</th>\n",
       "      <td>2</td>\n",
       "      <td>C1860</td>\n",
       "      <td>R2054</td>\n",
       "      <td>2024-02-02 22:11:04</td>\n",
       "      <td>2024-02-02 22:46:04</td>\n",
       "      <td>986</td>\n",
       "      <td>40</td>\n",
       "      <td>Digital Wallet</td>\n",
       "      <td>10%</td>\n",
       "      <td>198</td>\n",
       "      <td>23</td>\n",
       "      <td>0</td>\n",
       "    </tr>\n",
       "    <tr>\n",
       "      <th>2</th>\n",
       "      <td>3</td>\n",
       "      <td>C6390</td>\n",
       "      <td>R2870</td>\n",
       "      <td>2024-01-31 05:54:35</td>\n",
       "      <td>2024-01-31 06:52:35</td>\n",
       "      <td>937</td>\n",
       "      <td>30</td>\n",
       "      <td>Cash on Delivery</td>\n",
       "      <td>15% New User</td>\n",
       "      <td>195</td>\n",
       "      <td>45</td>\n",
       "      <td>0</td>\n",
       "    </tr>\n",
       "    <tr>\n",
       "      <th>3</th>\n",
       "      <td>4</td>\n",
       "      <td>C6191</td>\n",
       "      <td>R2642</td>\n",
       "      <td>2024-01-16 22:52:49</td>\n",
       "      <td>2024-01-16 23:38:49</td>\n",
       "      <td>1463</td>\n",
       "      <td>50</td>\n",
       "      <td>Cash on Delivery</td>\n",
       "      <td>NaN</td>\n",
       "      <td>146</td>\n",
       "      <td>27</td>\n",
       "      <td>0</td>\n",
       "    </tr>\n",
       "    <tr>\n",
       "      <th>4</th>\n",
       "      <td>5</td>\n",
       "      <td>C6734</td>\n",
       "      <td>R2799</td>\n",
       "      <td>2024-01-29 01:19:30</td>\n",
       "      <td>2024-01-29 02:48:30</td>\n",
       "      <td>1992</td>\n",
       "      <td>30</td>\n",
       "      <td>Cash on Delivery</td>\n",
       "      <td>50 off Promo</td>\n",
       "      <td>130</td>\n",
       "      <td>50</td>\n",
       "      <td>0</td>\n",
       "    </tr>\n",
       "  </tbody>\n",
       "</table>\n",
       "</div>"
      ],
      "text/plain": [
       "   Order ID Customer ID Restaurant ID  Order Date and Time  \\\n",
       "0         1       C8270         R2924  2024-02-01 01:11:52   \n",
       "1         2       C1860         R2054  2024-02-02 22:11:04   \n",
       "2         3       C6390         R2870  2024-01-31 05:54:35   \n",
       "3         4       C6191         R2642  2024-01-16 22:52:49   \n",
       "4         5       C6734         R2799  2024-01-29 01:19:30   \n",
       "\n",
       "  Delivery Date and Time  Order Value  Delivery Fee    Payment Method  \\\n",
       "0    2024-02-01 02:39:52         1914             0       Credit Card   \n",
       "1    2024-02-02 22:46:04          986            40    Digital Wallet   \n",
       "2    2024-01-31 06:52:35          937            30  Cash on Delivery   \n",
       "3    2024-01-16 23:38:49         1463            50  Cash on Delivery   \n",
       "4    2024-01-29 02:48:30         1992            30  Cash on Delivery   \n",
       "\n",
       "  Discounts and Offers  Commission Fee  Payment Processing Fee  \\\n",
       "0            5% on App             150                      47   \n",
       "1                  10%             198                      23   \n",
       "2         15% New User             195                      45   \n",
       "3                  NaN             146                      27   \n",
       "4         50 off Promo             130                      50   \n",
       "\n",
       "   Refunds/Chargebacks  \n",
       "0                    0  \n",
       "1                    0  \n",
       "2                    0  \n",
       "3                    0  \n",
       "4                    0  "
      ]
     },
     "execution_count": 44,
     "metadata": {},
     "output_type": "execute_result"
    }
   ],
   "source": [
    "data=pd.read_csv(\"food_orders_new_delhi.csv\")\n",
    "print(data.shape)\n",
    "data.head()"
   ]
  },
  {
   "cell_type": "code",
   "execution_count": 45,
   "id": "bcafea0c",
   "metadata": {},
   "outputs": [
    {
     "name": "stdout",
     "output_type": "stream",
     "text": [
      "<class 'pandas.core.frame.DataFrame'>\n",
      "RangeIndex: 1000 entries, 0 to 999\n",
      "Data columns (total 12 columns):\n",
      " #   Column                  Non-Null Count  Dtype \n",
      "---  ------                  --------------  ----- \n",
      " 0   Order ID                1000 non-null   int64 \n",
      " 1   Customer ID             1000 non-null   object\n",
      " 2   Restaurant ID           1000 non-null   object\n",
      " 3   Order Date and Time     1000 non-null   object\n",
      " 4   Delivery Date and Time  1000 non-null   object\n",
      " 5   Order Value             1000 non-null   int64 \n",
      " 6   Delivery Fee            1000 non-null   int64 \n",
      " 7   Payment Method          1000 non-null   object\n",
      " 8   Discounts and Offers    815 non-null    object\n",
      " 9   Commission Fee          1000 non-null   int64 \n",
      " 10  Payment Processing Fee  1000 non-null   int64 \n",
      " 11  Refunds/Chargebacks     1000 non-null   int64 \n",
      "dtypes: int64(6), object(6)\n",
      "memory usage: 93.9+ KB\n"
     ]
    }
   ],
   "source": [
    "data.info()"
   ]
  },
  {
   "cell_type": "markdown",
   "id": "1327ad96",
   "metadata": {},
   "source": [
    "## Data cleaning"
   ]
  },
  {
   "cell_type": "markdown",
   "id": "e31805c1",
   "metadata": {},
   "source": [
    "- Convert “Order Date and Time” and “Delivery Date and Time” to a datetime format.\n",
    "- Convert “Discounts and Offers” to a consistent numeric value and calculate the discount amounts.\n",
    "- Ensure all monetary values are in a suitable format for calculations."
   ]
  },
  {
   "cell_type": "code",
   "execution_count": 46,
   "id": "d61f9a30",
   "metadata": {},
   "outputs": [],
   "source": [
    "data['Order Date and Time']=pd.to_datetime(data['Order Date and Time'])\n",
    "data['Delivery Date and Time']=pd.to_datetime(data['Delivery Date and Time'])"
   ]
  },
  {
   "cell_type": "code",
   "execution_count": 47,
   "id": "53b14527",
   "metadata": {},
   "outputs": [
    {
     "data": {
      "text/plain": [
       "Discounts and Offers\n",
       "10%             233\n",
       "50 off Promo    201\n",
       "15% New User    198\n",
       "5% on App       183\n",
       "Name: count, dtype: int64"
      ]
     },
     "execution_count": 47,
     "metadata": {},
     "output_type": "execute_result"
    }
   ],
   "source": [
    "data['Discounts and Offers'].value_counts()"
   ]
  },
  {
   "cell_type": "code",
   "execution_count": 50,
   "id": "0e4d5b40",
   "metadata": {},
   "outputs": [],
   "source": [
    "def extract_discount_quant(discount_str):\n",
    "    if isinstance(discount_str, float):\n",
    "        return discount_str\n",
    "    else:\n",
    "        return discount_str.split(' ')[0]"
   ]
  },
  {
   "cell_type": "code",
   "execution_count": 51,
   "id": "25793e01",
   "metadata": {},
   "outputs": [],
   "source": [
    "data['Discounts and Offers']=data['Discounts and Offers'].apply(lambda x:extract_discount_quant(x))"
   ]
  },
  {
   "cell_type": "code",
   "execution_count": 52,
   "id": "1c27006c",
   "metadata": {},
   "outputs": [
    {
     "data": {
      "text/html": [
       "<div>\n",
       "<style scoped>\n",
       "    .dataframe tbody tr th:only-of-type {\n",
       "        vertical-align: middle;\n",
       "    }\n",
       "\n",
       "    .dataframe tbody tr th {\n",
       "        vertical-align: top;\n",
       "    }\n",
       "\n",
       "    .dataframe thead th {\n",
       "        text-align: right;\n",
       "    }\n",
       "</style>\n",
       "<table border=\"1\" class=\"dataframe\">\n",
       "  <thead>\n",
       "    <tr style=\"text-align: right;\">\n",
       "      <th></th>\n",
       "      <th>Order ID</th>\n",
       "      <th>Customer ID</th>\n",
       "      <th>Restaurant ID</th>\n",
       "      <th>Order Date and Time</th>\n",
       "      <th>Delivery Date and Time</th>\n",
       "      <th>Order Value</th>\n",
       "      <th>Delivery Fee</th>\n",
       "      <th>Payment Method</th>\n",
       "      <th>Discounts and Offers</th>\n",
       "      <th>Commission Fee</th>\n",
       "      <th>Payment Processing Fee</th>\n",
       "      <th>Refunds/Chargebacks</th>\n",
       "    </tr>\n",
       "  </thead>\n",
       "  <tbody>\n",
       "    <tr>\n",
       "      <th>0</th>\n",
       "      <td>1</td>\n",
       "      <td>C8270</td>\n",
       "      <td>R2924</td>\n",
       "      <td>2024-02-01 01:11:52</td>\n",
       "      <td>2024-02-01 02:39:52</td>\n",
       "      <td>1914</td>\n",
       "      <td>0</td>\n",
       "      <td>Credit Card</td>\n",
       "      <td>5%</td>\n",
       "      <td>150</td>\n",
       "      <td>47</td>\n",
       "      <td>0</td>\n",
       "    </tr>\n",
       "    <tr>\n",
       "      <th>1</th>\n",
       "      <td>2</td>\n",
       "      <td>C1860</td>\n",
       "      <td>R2054</td>\n",
       "      <td>2024-02-02 22:11:04</td>\n",
       "      <td>2024-02-02 22:46:04</td>\n",
       "      <td>986</td>\n",
       "      <td>40</td>\n",
       "      <td>Digital Wallet</td>\n",
       "      <td>10%</td>\n",
       "      <td>198</td>\n",
       "      <td>23</td>\n",
       "      <td>0</td>\n",
       "    </tr>\n",
       "    <tr>\n",
       "      <th>2</th>\n",
       "      <td>3</td>\n",
       "      <td>C6390</td>\n",
       "      <td>R2870</td>\n",
       "      <td>2024-01-31 05:54:35</td>\n",
       "      <td>2024-01-31 06:52:35</td>\n",
       "      <td>937</td>\n",
       "      <td>30</td>\n",
       "      <td>Cash on Delivery</td>\n",
       "      <td>15%</td>\n",
       "      <td>195</td>\n",
       "      <td>45</td>\n",
       "      <td>0</td>\n",
       "    </tr>\n",
       "    <tr>\n",
       "      <th>3</th>\n",
       "      <td>4</td>\n",
       "      <td>C6191</td>\n",
       "      <td>R2642</td>\n",
       "      <td>2024-01-16 22:52:49</td>\n",
       "      <td>2024-01-16 23:38:49</td>\n",
       "      <td>1463</td>\n",
       "      <td>50</td>\n",
       "      <td>Cash on Delivery</td>\n",
       "      <td>NaN</td>\n",
       "      <td>146</td>\n",
       "      <td>27</td>\n",
       "      <td>0</td>\n",
       "    </tr>\n",
       "    <tr>\n",
       "      <th>4</th>\n",
       "      <td>5</td>\n",
       "      <td>C6734</td>\n",
       "      <td>R2799</td>\n",
       "      <td>2024-01-29 01:19:30</td>\n",
       "      <td>2024-01-29 02:48:30</td>\n",
       "      <td>1992</td>\n",
       "      <td>30</td>\n",
       "      <td>Cash on Delivery</td>\n",
       "      <td>50</td>\n",
       "      <td>130</td>\n",
       "      <td>50</td>\n",
       "      <td>0</td>\n",
       "    </tr>\n",
       "  </tbody>\n",
       "</table>\n",
       "</div>"
      ],
      "text/plain": [
       "   Order ID Customer ID Restaurant ID Order Date and Time  \\\n",
       "0         1       C8270         R2924 2024-02-01 01:11:52   \n",
       "1         2       C1860         R2054 2024-02-02 22:11:04   \n",
       "2         3       C6390         R2870 2024-01-31 05:54:35   \n",
       "3         4       C6191         R2642 2024-01-16 22:52:49   \n",
       "4         5       C6734         R2799 2024-01-29 01:19:30   \n",
       "\n",
       "  Delivery Date and Time  Order Value  Delivery Fee    Payment Method  \\\n",
       "0    2024-02-01 02:39:52         1914             0       Credit Card   \n",
       "1    2024-02-02 22:46:04          986            40    Digital Wallet   \n",
       "2    2024-01-31 06:52:35          937            30  Cash on Delivery   \n",
       "3    2024-01-16 23:38:49         1463            50  Cash on Delivery   \n",
       "4    2024-01-29 02:48:30         1992            30  Cash on Delivery   \n",
       "\n",
       "  Discounts and Offers  Commission Fee  Payment Processing Fee  \\\n",
       "0                   5%             150                      47   \n",
       "1                  10%             198                      23   \n",
       "2                  15%             195                      45   \n",
       "3                  NaN             146                      27   \n",
       "4                   50             130                      50   \n",
       "\n",
       "   Refunds/Chargebacks  \n",
       "0                    0  \n",
       "1                    0  \n",
       "2                    0  \n",
       "3                    0  \n",
       "4                    0  "
      ]
     },
     "execution_count": 52,
     "metadata": {},
     "output_type": "execute_result"
    }
   ],
   "source": [
    "data.head()"
   ]
  },
  {
   "cell_type": "code",
   "execution_count": 72,
   "id": "1373913c",
   "metadata": {},
   "outputs": [],
   "source": [
    "def amount_extract(discount_str,order_value):\n",
    "    if isinstance(discount_str,float):\n",
    "        return discount_str\n",
    "    elif '%' in discount_str:\n",
    "        a=float(discount_str.split('%')[0])\n",
    "        return order_value*a/100\n",
    "    elif discount_str is None:\n",
    "        return 0.0\n",
    "    else:\n",
    "        return float(discount_str)"
   ]
  },
  {
   "cell_type": "code",
   "execution_count": 73,
   "id": "6c95629f",
   "metadata": {},
   "outputs": [],
   "source": [
    "data['Discount_amount']=data.apply(lambda x:amount_extract(x['Discounts and Offers'],x['Order Value']),axis=1)"
   ]
  },
  {
   "cell_type": "code",
   "execution_count": 74,
   "id": "95074d46",
   "metadata": {},
   "outputs": [
    {
     "data": {
      "text/html": [
       "<div>\n",
       "<style scoped>\n",
       "    .dataframe tbody tr th:only-of-type {\n",
       "        vertical-align: middle;\n",
       "    }\n",
       "\n",
       "    .dataframe tbody tr th {\n",
       "        vertical-align: top;\n",
       "    }\n",
       "\n",
       "    .dataframe thead th {\n",
       "        text-align: right;\n",
       "    }\n",
       "</style>\n",
       "<table border=\"1\" class=\"dataframe\">\n",
       "  <thead>\n",
       "    <tr style=\"text-align: right;\">\n",
       "      <th></th>\n",
       "      <th>Order ID</th>\n",
       "      <th>Customer ID</th>\n",
       "      <th>Restaurant ID</th>\n",
       "      <th>Order Date and Time</th>\n",
       "      <th>Delivery Date and Time</th>\n",
       "      <th>Order Value</th>\n",
       "      <th>Delivery Fee</th>\n",
       "      <th>Payment Method</th>\n",
       "      <th>Discounts and Offers</th>\n",
       "      <th>Commission Fee</th>\n",
       "      <th>Payment Processing Fee</th>\n",
       "      <th>Refunds/Chargebacks</th>\n",
       "      <th>Discount_amount</th>\n",
       "    </tr>\n",
       "  </thead>\n",
       "  <tbody>\n",
       "    <tr>\n",
       "      <th>0</th>\n",
       "      <td>1</td>\n",
       "      <td>C8270</td>\n",
       "      <td>R2924</td>\n",
       "      <td>2024-02-01 01:11:52</td>\n",
       "      <td>2024-02-01 02:39:52</td>\n",
       "      <td>1914</td>\n",
       "      <td>0</td>\n",
       "      <td>Credit Card</td>\n",
       "      <td>5%</td>\n",
       "      <td>150</td>\n",
       "      <td>47</td>\n",
       "      <td>0</td>\n",
       "      <td>95.70</td>\n",
       "    </tr>\n",
       "    <tr>\n",
       "      <th>1</th>\n",
       "      <td>2</td>\n",
       "      <td>C1860</td>\n",
       "      <td>R2054</td>\n",
       "      <td>2024-02-02 22:11:04</td>\n",
       "      <td>2024-02-02 22:46:04</td>\n",
       "      <td>986</td>\n",
       "      <td>40</td>\n",
       "      <td>Digital Wallet</td>\n",
       "      <td>10%</td>\n",
       "      <td>198</td>\n",
       "      <td>23</td>\n",
       "      <td>0</td>\n",
       "      <td>98.60</td>\n",
       "    </tr>\n",
       "    <tr>\n",
       "      <th>2</th>\n",
       "      <td>3</td>\n",
       "      <td>C6390</td>\n",
       "      <td>R2870</td>\n",
       "      <td>2024-01-31 05:54:35</td>\n",
       "      <td>2024-01-31 06:52:35</td>\n",
       "      <td>937</td>\n",
       "      <td>30</td>\n",
       "      <td>Cash on Delivery</td>\n",
       "      <td>15%</td>\n",
       "      <td>195</td>\n",
       "      <td>45</td>\n",
       "      <td>0</td>\n",
       "      <td>140.55</td>\n",
       "    </tr>\n",
       "    <tr>\n",
       "      <th>3</th>\n",
       "      <td>4</td>\n",
       "      <td>C6191</td>\n",
       "      <td>R2642</td>\n",
       "      <td>2024-01-16 22:52:49</td>\n",
       "      <td>2024-01-16 23:38:49</td>\n",
       "      <td>1463</td>\n",
       "      <td>50</td>\n",
       "      <td>Cash on Delivery</td>\n",
       "      <td>NaN</td>\n",
       "      <td>146</td>\n",
       "      <td>27</td>\n",
       "      <td>0</td>\n",
       "      <td>NaN</td>\n",
       "    </tr>\n",
       "    <tr>\n",
       "      <th>4</th>\n",
       "      <td>5</td>\n",
       "      <td>C6734</td>\n",
       "      <td>R2799</td>\n",
       "      <td>2024-01-29 01:19:30</td>\n",
       "      <td>2024-01-29 02:48:30</td>\n",
       "      <td>1992</td>\n",
       "      <td>30</td>\n",
       "      <td>Cash on Delivery</td>\n",
       "      <td>50</td>\n",
       "      <td>130</td>\n",
       "      <td>50</td>\n",
       "      <td>0</td>\n",
       "      <td>50.00</td>\n",
       "    </tr>\n",
       "  </tbody>\n",
       "</table>\n",
       "</div>"
      ],
      "text/plain": [
       "   Order ID Customer ID Restaurant ID Order Date and Time  \\\n",
       "0         1       C8270         R2924 2024-02-01 01:11:52   \n",
       "1         2       C1860         R2054 2024-02-02 22:11:04   \n",
       "2         3       C6390         R2870 2024-01-31 05:54:35   \n",
       "3         4       C6191         R2642 2024-01-16 22:52:49   \n",
       "4         5       C6734         R2799 2024-01-29 01:19:30   \n",
       "\n",
       "  Delivery Date and Time  Order Value  Delivery Fee    Payment Method  \\\n",
       "0    2024-02-01 02:39:52         1914             0       Credit Card   \n",
       "1    2024-02-02 22:46:04          986            40    Digital Wallet   \n",
       "2    2024-01-31 06:52:35          937            30  Cash on Delivery   \n",
       "3    2024-01-16 23:38:49         1463            50  Cash on Delivery   \n",
       "4    2024-01-29 02:48:30         1992            30  Cash on Delivery   \n",
       "\n",
       "  Discounts and Offers  Commission Fee  Payment Processing Fee  \\\n",
       "0                   5%             150                      47   \n",
       "1                  10%             198                      23   \n",
       "2                  15%             195                      45   \n",
       "3                  NaN             146                      27   \n",
       "4                   50             130                      50   \n",
       "\n",
       "   Refunds/Chargebacks  Discount_amount  \n",
       "0                    0            95.70  \n",
       "1                    0            98.60  \n",
       "2                    0           140.55  \n",
       "3                    0              NaN  \n",
       "4                    0            50.00  "
      ]
     },
     "execution_count": 74,
     "metadata": {},
     "output_type": "execute_result"
    }
   ],
   "source": [
    "data.head()"
   ]
  },
  {
   "cell_type": "code",
   "execution_count": 75,
   "id": "06fc51e7",
   "metadata": {},
   "outputs": [],
   "source": [
    "data['Discount_amount'].fillna(0.0,inplace=True)"
   ]
  },
  {
   "cell_type": "code",
   "execution_count": 76,
   "id": "156b188b",
   "metadata": {},
   "outputs": [
    {
     "data": {
      "text/html": [
       "<div>\n",
       "<style scoped>\n",
       "    .dataframe tbody tr th:only-of-type {\n",
       "        vertical-align: middle;\n",
       "    }\n",
       "\n",
       "    .dataframe tbody tr th {\n",
       "        vertical-align: top;\n",
       "    }\n",
       "\n",
       "    .dataframe thead th {\n",
       "        text-align: right;\n",
       "    }\n",
       "</style>\n",
       "<table border=\"1\" class=\"dataframe\">\n",
       "  <thead>\n",
       "    <tr style=\"text-align: right;\">\n",
       "      <th></th>\n",
       "      <th>Order ID</th>\n",
       "      <th>Customer ID</th>\n",
       "      <th>Restaurant ID</th>\n",
       "      <th>Order Date and Time</th>\n",
       "      <th>Delivery Date and Time</th>\n",
       "      <th>Order Value</th>\n",
       "      <th>Delivery Fee</th>\n",
       "      <th>Payment Method</th>\n",
       "      <th>Discounts and Offers</th>\n",
       "      <th>Commission Fee</th>\n",
       "      <th>Payment Processing Fee</th>\n",
       "      <th>Refunds/Chargebacks</th>\n",
       "      <th>Discount_amount</th>\n",
       "    </tr>\n",
       "  </thead>\n",
       "  <tbody>\n",
       "    <tr>\n",
       "      <th>0</th>\n",
       "      <td>1</td>\n",
       "      <td>C8270</td>\n",
       "      <td>R2924</td>\n",
       "      <td>2024-02-01 01:11:52</td>\n",
       "      <td>2024-02-01 02:39:52</td>\n",
       "      <td>1914</td>\n",
       "      <td>0</td>\n",
       "      <td>Credit Card</td>\n",
       "      <td>5%</td>\n",
       "      <td>150</td>\n",
       "      <td>47</td>\n",
       "      <td>0</td>\n",
       "      <td>95.70</td>\n",
       "    </tr>\n",
       "    <tr>\n",
       "      <th>1</th>\n",
       "      <td>2</td>\n",
       "      <td>C1860</td>\n",
       "      <td>R2054</td>\n",
       "      <td>2024-02-02 22:11:04</td>\n",
       "      <td>2024-02-02 22:46:04</td>\n",
       "      <td>986</td>\n",
       "      <td>40</td>\n",
       "      <td>Digital Wallet</td>\n",
       "      <td>10%</td>\n",
       "      <td>198</td>\n",
       "      <td>23</td>\n",
       "      <td>0</td>\n",
       "      <td>98.60</td>\n",
       "    </tr>\n",
       "    <tr>\n",
       "      <th>2</th>\n",
       "      <td>3</td>\n",
       "      <td>C6390</td>\n",
       "      <td>R2870</td>\n",
       "      <td>2024-01-31 05:54:35</td>\n",
       "      <td>2024-01-31 06:52:35</td>\n",
       "      <td>937</td>\n",
       "      <td>30</td>\n",
       "      <td>Cash on Delivery</td>\n",
       "      <td>15%</td>\n",
       "      <td>195</td>\n",
       "      <td>45</td>\n",
       "      <td>0</td>\n",
       "      <td>140.55</td>\n",
       "    </tr>\n",
       "    <tr>\n",
       "      <th>3</th>\n",
       "      <td>4</td>\n",
       "      <td>C6191</td>\n",
       "      <td>R2642</td>\n",
       "      <td>2024-01-16 22:52:49</td>\n",
       "      <td>2024-01-16 23:38:49</td>\n",
       "      <td>1463</td>\n",
       "      <td>50</td>\n",
       "      <td>Cash on Delivery</td>\n",
       "      <td>NaN</td>\n",
       "      <td>146</td>\n",
       "      <td>27</td>\n",
       "      <td>0</td>\n",
       "      <td>0.00</td>\n",
       "    </tr>\n",
       "    <tr>\n",
       "      <th>4</th>\n",
       "      <td>5</td>\n",
       "      <td>C6734</td>\n",
       "      <td>R2799</td>\n",
       "      <td>2024-01-29 01:19:30</td>\n",
       "      <td>2024-01-29 02:48:30</td>\n",
       "      <td>1992</td>\n",
       "      <td>30</td>\n",
       "      <td>Cash on Delivery</td>\n",
       "      <td>50</td>\n",
       "      <td>130</td>\n",
       "      <td>50</td>\n",
       "      <td>0</td>\n",
       "      <td>50.00</td>\n",
       "    </tr>\n",
       "  </tbody>\n",
       "</table>\n",
       "</div>"
      ],
      "text/plain": [
       "   Order ID Customer ID Restaurant ID Order Date and Time  \\\n",
       "0         1       C8270         R2924 2024-02-01 01:11:52   \n",
       "1         2       C1860         R2054 2024-02-02 22:11:04   \n",
       "2         3       C6390         R2870 2024-01-31 05:54:35   \n",
       "3         4       C6191         R2642 2024-01-16 22:52:49   \n",
       "4         5       C6734         R2799 2024-01-29 01:19:30   \n",
       "\n",
       "  Delivery Date and Time  Order Value  Delivery Fee    Payment Method  \\\n",
       "0    2024-02-01 02:39:52         1914             0       Credit Card   \n",
       "1    2024-02-02 22:46:04          986            40    Digital Wallet   \n",
       "2    2024-01-31 06:52:35          937            30  Cash on Delivery   \n",
       "3    2024-01-16 23:38:49         1463            50  Cash on Delivery   \n",
       "4    2024-01-29 02:48:30         1992            30  Cash on Delivery   \n",
       "\n",
       "  Discounts and Offers  Commission Fee  Payment Processing Fee  \\\n",
       "0                   5%             150                      47   \n",
       "1                  10%             198                      23   \n",
       "2                  15%             195                      45   \n",
       "3                  NaN             146                      27   \n",
       "4                   50             130                      50   \n",
       "\n",
       "   Refunds/Chargebacks  Discount_amount  \n",
       "0                    0            95.70  \n",
       "1                    0            98.60  \n",
       "2                    0           140.55  \n",
       "3                    0             0.00  \n",
       "4                    0            50.00  "
      ]
     },
     "execution_count": 76,
     "metadata": {},
     "output_type": "execute_result"
    }
   ],
   "source": [
    "data.head()"
   ]
  },
  {
   "cell_type": "markdown",
   "id": "c9bf32b5",
   "metadata": {},
   "source": [
    "# Cost and Profitability Analysis"
   ]
  },
  {
   "cell_type": "markdown",
   "id": "d7dabb79",
   "metadata": {},
   "source": [
    "For the cost analysis, we’ll consider the following costs associated with each order:\n",
    "\n",
    "- Delivery Fee: The fee charged for delivering the order.\n",
    "- Payment Processing Fee: The fee for processing the payment.\n",
    "- Discount Amount: The discount provided on the order.\n",
    "\n",
    "The revenue for the platform is mainly derived from the Commission Fee. I’ll calculate the net profit by subtracting the total costs (including discounts) from the revenue generated through commission fees."
   ]
  },
  {
   "cell_type": "code",
   "execution_count": 79,
   "id": "44920493",
   "metadata": {},
   "outputs": [],
   "source": [
    "# Calculating Total profit per order\n",
    "data['Total costs']=data['Delivery Fee']+data['Payment Processing Fee']+data['Discount_amount']+data['Refunds/Chargebacks']\n",
    "data['Revenue']=data['Commission Fee'].copy()\n",
    "data['Total Profit']=data['Revenue']-data['Total costs']"
   ]
  },
  {
   "cell_type": "code",
   "execution_count": 81,
   "id": "2182650d",
   "metadata": {},
   "outputs": [
    {
     "data": {
      "text/html": [
       "<div>\n",
       "<style scoped>\n",
       "    .dataframe tbody tr th:only-of-type {\n",
       "        vertical-align: middle;\n",
       "    }\n",
       "\n",
       "    .dataframe tbody tr th {\n",
       "        vertical-align: top;\n",
       "    }\n",
       "\n",
       "    .dataframe thead th {\n",
       "        text-align: right;\n",
       "    }\n",
       "</style>\n",
       "<table border=\"1\" class=\"dataframe\">\n",
       "  <thead>\n",
       "    <tr style=\"text-align: right;\">\n",
       "      <th></th>\n",
       "      <th>Order ID</th>\n",
       "      <th>Customer ID</th>\n",
       "      <th>Restaurant ID</th>\n",
       "      <th>Order Date and Time</th>\n",
       "      <th>Delivery Date and Time</th>\n",
       "      <th>Order Value</th>\n",
       "      <th>Delivery Fee</th>\n",
       "      <th>Payment Method</th>\n",
       "      <th>Discounts and Offers</th>\n",
       "      <th>Commission Fee</th>\n",
       "      <th>Payment Processing Fee</th>\n",
       "      <th>Refunds/Chargebacks</th>\n",
       "      <th>Discount_amount</th>\n",
       "      <th>Total costs</th>\n",
       "      <th>Revenue</th>\n",
       "      <th>Total Profit</th>\n",
       "    </tr>\n",
       "  </thead>\n",
       "  <tbody>\n",
       "    <tr>\n",
       "      <th>0</th>\n",
       "      <td>1</td>\n",
       "      <td>C8270</td>\n",
       "      <td>R2924</td>\n",
       "      <td>2024-02-01 01:11:52</td>\n",
       "      <td>2024-02-01 02:39:52</td>\n",
       "      <td>1914</td>\n",
       "      <td>0</td>\n",
       "      <td>Credit Card</td>\n",
       "      <td>5%</td>\n",
       "      <td>150</td>\n",
       "      <td>47</td>\n",
       "      <td>0</td>\n",
       "      <td>95.7</td>\n",
       "      <td>142.7</td>\n",
       "      <td>150</td>\n",
       "      <td>7.3</td>\n",
       "    </tr>\n",
       "    <tr>\n",
       "      <th>1</th>\n",
       "      <td>2</td>\n",
       "      <td>C1860</td>\n",
       "      <td>R2054</td>\n",
       "      <td>2024-02-02 22:11:04</td>\n",
       "      <td>2024-02-02 22:46:04</td>\n",
       "      <td>986</td>\n",
       "      <td>40</td>\n",
       "      <td>Digital Wallet</td>\n",
       "      <td>10%</td>\n",
       "      <td>198</td>\n",
       "      <td>23</td>\n",
       "      <td>0</td>\n",
       "      <td>98.6</td>\n",
       "      <td>161.6</td>\n",
       "      <td>198</td>\n",
       "      <td>36.4</td>\n",
       "    </tr>\n",
       "  </tbody>\n",
       "</table>\n",
       "</div>"
      ],
      "text/plain": [
       "   Order ID Customer ID Restaurant ID Order Date and Time  \\\n",
       "0         1       C8270         R2924 2024-02-01 01:11:52   \n",
       "1         2       C1860         R2054 2024-02-02 22:11:04   \n",
       "\n",
       "  Delivery Date and Time  Order Value  Delivery Fee  Payment Method  \\\n",
       "0    2024-02-01 02:39:52         1914             0     Credit Card   \n",
       "1    2024-02-02 22:46:04          986            40  Digital Wallet   \n",
       "\n",
       "  Discounts and Offers  Commission Fee  Payment Processing Fee  \\\n",
       "0                   5%             150                      47   \n",
       "1                  10%             198                      23   \n",
       "\n",
       "   Refunds/Chargebacks  Discount_amount  Total costs  Revenue  Total Profit  \n",
       "0                    0             95.7        142.7      150           7.3  \n",
       "1                    0             98.6        161.6      198          36.4  "
      ]
     },
     "execution_count": 81,
     "metadata": {},
     "output_type": "execute_result"
    }
   ],
   "source": [
    "data.head(2)"
   ]
  },
  {
   "cell_type": "code",
   "execution_count": 92,
   "id": "1acb35fe",
   "metadata": {},
   "outputs": [
    {
     "name": "stdout",
     "output_type": "stream",
     "text": [
      "{'Total Orders': 1000, 'Total Revenue': 126990, 'Total Costs': 161041.85, 'Total Profit': -34051.85}\n"
     ]
    }
   ],
   "source": [
    "# for getting overall metrics\n",
    "total_orders=data.shape[0]\n",
    "total_revenue=data['Revenue'].sum()\n",
    "total_cost=data['Total costs'].sum()\n",
    "total_profit=round(data['Total Profit'].sum(),2)\n",
    "\n",
    "all_metrics={'Total Orders':total_orders,\n",
    "             'Total Revenue':total_revenue,\n",
    "             'Total Costs':total_cost,\n",
    "             'Total Profit':total_profit}\n",
    "\n",
    "print(all_metrics)"
   ]
  },
  {
   "cell_type": "markdown",
   "id": "3da70dff",
   "metadata": {},
   "source": [
    "Insights:  The analysis indicates that the total costs associated with the food delivery operations exceed the total revenue generated from commission fees, resulting in a net loss. It suggests that the current commission rates, delivery fees, and discount strategies might not be sustainable for profitability."
   ]
  },
  {
   "cell_type": "markdown",
   "id": "7ec4c6ef",
   "metadata": {},
   "source": [
    "To better understand the distribution of costs, revenue, and profit, let’s plot:\n",
    "\n",
    "- A histogram of profits per order to visualize the distribution of profitable and unprofitable orders.\n",
    "- A pie chart to visualize the proportion of total costs (delivery fees, payment processing fees, and discounts).\n",
    "- A bar chart to compare total revenue, total costs, and total profit"
   ]
  },
  {
   "cell_type": "code",
   "execution_count": 93,
   "id": "4c02f8d2",
   "metadata": {},
   "outputs": [],
   "source": [
    "import matplotlib.pyplot as plt"
   ]
  },
  {
   "cell_type": "markdown",
   "id": "70cc364c",
   "metadata": {},
   "source": [
    "#### Profit per order "
   ]
  },
  {
   "cell_type": "code",
   "execution_count": 99,
   "id": "f58c4c98",
   "metadata": {},
   "outputs": [
    {
     "data": {
      "image/png": "[encoded data removed]",
      "text/plain": [
       "<Figure size 1000x300 with 1 Axes>"
      ]
     },
     "metadata": {},
     "output_type": "display_data"
    }
   ],
   "source": [
    "plt.figure(figsize=(10,3))\n",
    "\n",
    "plt.hist(data['Total Profit'],bins=50)\n",
    "plt.title('Profit distribution per order in food delivery')\n",
    "plt.xlabel('Profit')\n",
    "plt.ylabel('Number of orders')\n",
    "plt.axvline(data['Total Profit'].mean(),color='red',linestyle='dashed',linewidth=1)\n",
    "plt.show()"
   ]
  },
  {
   "cell_type": "markdown",
   "id": "be054c85",
   "metadata": {},
   "source": [
    "Insights:  The histogram shows a wide distribution of profit per order, with a noticeable number of orders resulting in a loss (profits below 0). The red dashed line indicates the average profit, which is in the negative territory, highlighting the overall loss-making situation."
   ]
  },
  {
   "cell_type": "markdown",
   "id": "b68a42bb",
   "metadata": {},
   "source": [
    "#### Proportion of total costs"
   ]
  },
  {
   "cell_type": "code",
   "execution_count": 114,
   "id": "4a1c96f6",
   "metadata": {},
   "outputs": [
    {
     "data": {
      "text/plain": [
       "Index(['Delivery Fee', 'Payment Processing Fee', 'Discount_amount',\n",
       "       'Refunds/Chargebacks'],\n",
       "      dtype='object')"
      ]
     },
     "execution_count": 114,
     "metadata": {},
     "output_type": "execute_result"
    }
   ],
   "source": [
    "cost_breakdown=data[['Delivery Fee','Payment Processing Fee','Discount_amount','Refunds/Chargebacks']].sum()\n",
    "cost_breakdown.index"
   ]
  },
  {
   "cell_type": "code",
   "execution_count": 124,
   "id": "a15b9df3",
   "metadata": {},
   "outputs": [],
   "source": [
    "data['Discount_amount']=data['Discount_amount'].astype('int64')"
   ]
  },
  {
   "cell_type": "code",
   "execution_count": 125,
   "id": "4de03d4e",
   "metadata": {},
   "outputs": [
    {
     "data": {
      "text/plain": [
       "dtype('int64')"
      ]
     },
     "execution_count": 125,
     "metadata": {},
     "output_type": "execute_result"
    }
   ],
   "source": [
    "cost_breakdown.dtypes"
   ]
  },
  {
   "cell_type": "code",
   "execution_count": 129,
   "id": "37f1e74e",
   "metadata": {},
   "outputs": [
    {
     "data": {
      "text/plain": [
       "0"
      ]
     },
     "execution_count": 129,
     "metadata": {},
     "output_type": "execute_result"
    }
   ],
   "source": [
    "cost_breakdown.isnull().sum()"
   ]
  },
  {
   "cell_type": "code",
   "execution_count": 126,
   "id": "6dc69f86",
   "metadata": {},
   "outputs": [
    {
     "name": "stdout",
     "output_type": "stream",
     "text": [
      "<class 'pandas.core.frame.DataFrame'>\n",
      "RangeIndex: 1000 entries, 0 to 999\n",
      "Data columns (total 16 columns):\n",
      " #   Column                  Non-Null Count  Dtype         \n",
      "---  ------                  --------------  -----         \n",
      " 0   Order ID                1000 non-null   int64         \n",
      " 1   Customer ID             1000 non-null   object        \n",
      " 2   Restaurant ID           1000 non-null   object        \n",
      " 3   Order Date and Time     1000 non-null   datetime64[ns]\n",
      " 4   Delivery Date and Time  1000 non-null   datetime64[ns]\n",
      " 5   Order Value             1000 non-null   int64         \n",
      " 6   Delivery Fee            1000 non-null   int64         \n",
      " 7   Payment Method          1000 non-null   object        \n",
      " 8   Discounts and Offers    815 non-null    object        \n",
      " 9   Commission Fee          1000 non-null   int64         \n",
      " 10  Payment Processing Fee  1000 non-null   int64         \n",
      " 11  Refunds/Chargebacks     1000 non-null   int64         \n",
      " 12  Discount_amount         1000 non-null   int64         \n",
      " 13  Total costs             1000 non-null   float64       \n",
      " 14  Revenue                 1000 non-null   int64         \n",
      " 15  Total Profit            1000 non-null   float64       \n",
      "dtypes: datetime64[ns](2), float64(2), int64(8), object(4)\n",
      "memory usage: 125.1+ KB\n"
     ]
    }
   ],
   "source": [
    "data.info()"
   ]
  },
  {
   "cell_type": "code",
   "execution_count": 139,
   "id": "de3200c1",
   "metadata": {},
   "outputs": [
    {
     "data": {
      "image/png": "[encoded data removed]",
      "text/plain": [
       "<Figure size 500x500 with 1 Axes>"
      ]
     },
     "metadata": {},
     "output_type": "display_data"
    }
   ],
   "source": [
    "cost_breakdown=data[['Delivery Fee','Payment Processing Fee','Discount_amount','Refunds/Chargebacks']].sum()\n",
    "plt.figure(figsize=(5,5))\n",
    "plt.pie(cost_breakdown,labels=cost_breakdown.index,autopct='%1.1f%%')\n",
    "plt.title('Proportion of total costs in food delivery')\n",
    "plt.show()"
   ]
  },
  {
   "cell_type": "markdown",
   "id": "308678eb",
   "metadata": {},
   "source": [
    "Insights:  The pie chart illustrates the breakdown of total costs into delivery fees, payment processing fees, and discount amounts. Discounts constitute a significant portion of the costs, suggesting that promotional strategies might be heavily impacting overall profitability."
   ]
  },
  {
   "cell_type": "markdown",
   "id": "536eaa7a",
   "metadata": {},
   "source": [
    "#### Comparing total revenue, total costs, and total profit (total loss in this case):"
   ]
  },
  {
   "cell_type": "code",
   "execution_count": 146,
   "id": "cc0c842f",
   "metadata": {},
   "outputs": [
    {
     "data": {
      "image/png": "[encoded data removed]",
      "text/plain": [
       "<Figure size 1000x300 with 1 Axes>"
      ]
     },
     "metadata": {},
     "output_type": "display_data"
    }
   ],
   "source": [
    "totals=['Total Revenue','Total Costs','Total Profit']\n",
    "values=[total_revenue,total_cost,total_profit]\n",
    "\n",
    "plt.figure(figsize=(10,3))\n",
    "\n",
    "plt.bar(totals,values,color=['green','red','blue'])\n",
    "plt.title('Total Revenue, Costs, and Profit')\n",
    "plt.ylabel('Amount (INR)')\n",
    "plt.show()"
   ]
  },
  {
   "cell_type": "markdown",
   "id": "4beae9dd",
   "metadata": {},
   "source": [
    "Insights: The bar chart compares total revenue, total costs, and total profit. It visually represents the gap between revenue and costs, clearly showing that the costs surpass the revenue, leading to a total loss."
   ]
  },
  {
   "cell_type": "markdown",
   "id": "1c92ccb6",
   "metadata": {},
   "source": [
    "#### The average commission percentage for profitable orders."
   ]
  },
  {
   "cell_type": "code",
   "execution_count": 147,
   "id": "4165485e",
   "metadata": {},
   "outputs": [
    {
     "data": {
      "text/html": [
       "<div>\n",
       "<style scoped>\n",
       "    .dataframe tbody tr th:only-of-type {\n",
       "        vertical-align: middle;\n",
       "    }\n",
       "\n",
       "    .dataframe tbody tr th {\n",
       "        vertical-align: top;\n",
       "    }\n",
       "\n",
       "    .dataframe thead th {\n",
       "        text-align: right;\n",
       "    }\n",
       "</style>\n",
       "<table border=\"1\" class=\"dataframe\">\n",
       "  <thead>\n",
       "    <tr style=\"text-align: right;\">\n",
       "      <th></th>\n",
       "      <th>Order ID</th>\n",
       "      <th>Customer ID</th>\n",
       "      <th>Restaurant ID</th>\n",
       "      <th>Order Date and Time</th>\n",
       "      <th>Delivery Date and Time</th>\n",
       "      <th>Order Value</th>\n",
       "      <th>Delivery Fee</th>\n",
       "      <th>Payment Method</th>\n",
       "      <th>Discounts and Offers</th>\n",
       "      <th>Commission Fee</th>\n",
       "      <th>Payment Processing Fee</th>\n",
       "      <th>Refunds/Chargebacks</th>\n",
       "      <th>Discount_amount</th>\n",
       "      <th>Total costs</th>\n",
       "      <th>Revenue</th>\n",
       "      <th>Total Profit</th>\n",
       "    </tr>\n",
       "  </thead>\n",
       "  <tbody>\n",
       "    <tr>\n",
       "      <th>0</th>\n",
       "      <td>1</td>\n",
       "      <td>C8270</td>\n",
       "      <td>R2924</td>\n",
       "      <td>2024-02-01 01:11:52</td>\n",
       "      <td>2024-02-01 02:39:52</td>\n",
       "      <td>1914</td>\n",
       "      <td>0</td>\n",
       "      <td>Credit Card</td>\n",
       "      <td>5%</td>\n",
       "      <td>150</td>\n",
       "      <td>47</td>\n",
       "      <td>0</td>\n",
       "      <td>95</td>\n",
       "      <td>142.7</td>\n",
       "      <td>150</td>\n",
       "      <td>7.3</td>\n",
       "    </tr>\n",
       "    <tr>\n",
       "      <th>1</th>\n",
       "      <td>2</td>\n",
       "      <td>C1860</td>\n",
       "      <td>R2054</td>\n",
       "      <td>2024-02-02 22:11:04</td>\n",
       "      <td>2024-02-02 22:46:04</td>\n",
       "      <td>986</td>\n",
       "      <td>40</td>\n",
       "      <td>Digital Wallet</td>\n",
       "      <td>10%</td>\n",
       "      <td>198</td>\n",
       "      <td>23</td>\n",
       "      <td>0</td>\n",
       "      <td>98</td>\n",
       "      <td>161.6</td>\n",
       "      <td>198</td>\n",
       "      <td>36.4</td>\n",
       "    </tr>\n",
       "  </tbody>\n",
       "</table>\n",
       "</div>"
      ],
      "text/plain": [
       "   Order ID Customer ID Restaurant ID Order Date and Time  \\\n",
       "0         1       C8270         R2924 2024-02-01 01:11:52   \n",
       "1         2       C1860         R2054 2024-02-02 22:11:04   \n",
       "\n",
       "  Delivery Date and Time  Order Value  Delivery Fee  Payment Method  \\\n",
       "0    2024-02-01 02:39:52         1914             0     Credit Card   \n",
       "1    2024-02-02 22:46:04          986            40  Digital Wallet   \n",
       "\n",
       "  Discounts and Offers  Commission Fee  Payment Processing Fee  \\\n",
       "0                   5%             150                      47   \n",
       "1                  10%             198                      23   \n",
       "\n",
       "   Refunds/Chargebacks  Discount_amount  Total costs  Revenue  Total Profit  \n",
       "0                    0               95        142.7      150           7.3  \n",
       "1                    0               98        161.6      198          36.4  "
      ]
     },
     "execution_count": 147,
     "metadata": {},
     "output_type": "execute_result"
    }
   ],
   "source": [
    "data.head(2)"
   ]
  },
  {
   "cell_type": "code",
   "execution_count": 149,
   "id": "b7597d58",
   "metadata": {},
   "outputs": [
    {
     "name": "stdout",
     "output_type": "stream",
     "text": [
      "28.721297744525607 5.549540251603594\n"
     ]
    },
    {
     "name": "stderr",
     "output_type": "stream",
     "text": [
      "C:\\Users\\User\\AppData\\Local\\Temp\\ipykernel_8784\\2901904494.py:2: SettingWithCopyWarning: \n",
      "A value is trying to be set on a copy of a slice from a DataFrame.\n",
      "Try using .loc[row_indexer,col_indexer] = value instead\n",
      "\n",
      "See the caveats in the documentation: https://pandas.pydata.org/pandas-docs/stable/user_guide/indexing.html#returning-a-view-versus-a-copy\n",
      "  profitable_orders['Commission percentage']=100*(profitable_orders['Commission Fee']/profitable_orders['Order Value'])\n",
      "C:\\Users\\User\\AppData\\Local\\Temp\\ipykernel_8784\\2901904494.py:3: SettingWithCopyWarning: \n",
      "A value is trying to be set on a copy of a slice from a DataFrame.\n",
      "Try using .loc[row_indexer,col_indexer] = value instead\n",
      "\n",
      "See the caveats in the documentation: https://pandas.pydata.org/pandas-docs/stable/user_guide/indexing.html#returning-a-view-versus-a-copy\n",
      "  profitable_orders['Effective Discount Percentage']=100*(profitable_orders['Discount_amount']/profitable_orders['Order Value'])\n"
     ]
    }
   ],
   "source": [
    "profitable_orders=data[data['Total Profit']>0]\n",
    "profitable_orders['Commission percentage']=100*(profitable_orders['Commission Fee']/profitable_orders['Order Value'])\n",
    "profitable_orders['Effective Discount Percentage']=100*(profitable_orders['Discount_amount']/profitable_orders['Order Value'])\n",
    "new_avg_commission_percent=profitable_orders['Commission percentage'].mean()\n",
    "new_avg_eff_discount_percent=profitable_orders['Effective Discount Percentage'].mean()\n",
    "print(new_avg_commission_percent,new_avg_eff_discount_percent)"
   ]
  },
  {
   "cell_type": "code",
   "execution_count": null,
   "id": "c8a1d444",
   "metadata": {},
   "outputs": [],
   "source": []
  }
 ],
 "metadata": {
  "kernelspec": {
   "display_name": "Python 3 (ipykernel)",
   "language": "python",
   "name": "python3"
  },
  "language_info": {
   "codemirror_mode": {
    "name": "ipython",
    "version": 3
   },
   "file_extension": ".py",
   "mimetype": "text/x-python",
   "name": "python",
   "nbconvert_exporter": "python",
   "pygments_lexer": "ipython3",
   "version": "3.11.4"
  }
 },
 "nbformat": 4,
 "nbformat_minor": 5
}
